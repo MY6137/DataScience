{
 "cells": [
  {
   "cell_type": "markdown",
   "id": "0b4020a5-e1a1-48a5-a8e7-b4c3ac8a595a",
   "metadata": {
    "tags": []
   },
   "source": [
    "# Data Science Tools and Ecosystem"
   ]
  },
  {
   "cell_type": "markdown",
   "id": "04bcf038-df4b-43f1-9840-b4bdb981e1dd",
   "metadata": {},
   "source": [
    "In this notebook, Data Science Tools and Ecosystem are summarized."
   ]
  },
  {
   "cell_type": "markdown",
   "id": "943cd23f-6183-4144-b761-6c9b6aa53dc8",
   "metadata": {},
   "source": [
    "# Objectives:\n",
    "- Create a markdown cell to list data science languages\n",
    "- Create a markdown cell with a table of Data Science tools\n",
    "- Create a code cell to multiply and add numbers"
   ]
  },
  {
   "cell_type": "markdown",
   "id": "7403a82b-7836-4a93-8897-a9f27cf17cf9",
   "metadata": {},
   "source": [
    "# Objectives:\n",
    "- Create a markdown cell to list data science languages\n",
    "- Create a markdown cell with a table of Data Science tools\n",
    "- Create a code cell to multiply and add numbers"
   ]
  },
  {
   "cell_type": "markdown",
   "id": "597b294a-5d73-418d-9d4e-87f630c1e49c",
   "metadata": {},
   "source": [
    "Some of the popular languages that Data Scientists use are:"
   ]
  },
  {
   "cell_type": "markdown",
   "id": "cd9a46d6-99a1-4a44-8ac1-87628f76f8cc",
   "metadata": {},
   "source": [
    "1. python\n",
    "2. c\n",
    "3. R"
   ]
  },
  {
   "cell_type": "markdown",
   "id": "19c07af6-2218-4fa9-9476-8205844eaf43",
   "metadata": {},
   "source": [
    "Some of the commonly used libraries used by Data Scientists include:"
   ]
  },
  {
   "cell_type": "markdown",
   "id": "ceea087d-3148-4331-b236-a44b4b18796f",
   "metadata": {},
   "source": [
    "1. Pandas\n",
    "2. NumPy\n",
    "3. Matplotlib"
   ]
  },
  {
   "cell_type": "markdown",
   "id": "b27e7bef-05bf-419d-ba7a-a9bb43c2b461",
   "metadata": {},
   "source": [
    "|Data Science Tools|\n",
    "|------|\n",
    "|MySQL|\n",
    "|PostgreSQL|\n",
    "|mongoDB|"
   ]
  },
  {
   "cell_type": "markdown",
   "id": "7b6b1487-9038-4b48-b4d9-b1e3d16e349c",
   "metadata": {},
   "source": [
    "### Below are a few examples of evaluating arithmetic expressions in Python"
   ]
  },
  {
   "cell_type": "markdown",
   "id": "25bd7e78-4a52-45a7-8998-43d9a231690d",
   "metadata": {},
   "source": [
    "### Below are a few examples of evaluating arithmetic expressions in Python"
   ]
  },
  {
   "cell_type": "markdown",
   "id": "d4db7f7f-efe1-4377-a8c4-edc78ac34c47",
   "metadata": {},
   "source": [
    "This a simple arithmetic expression to mutiply then add integers"
   ]
  },
  {
   "cell_type": "code",
   "execution_count": 2,
   "id": "0b8e6274-5482-4f8e-b42d-b07068eab00c",
   "metadata": {
    "tags": []
   },
   "outputs": [
    {
     "data": {
      "text/plain": [
       "17"
      ]
     },
     "execution_count": 2,
     "metadata": {},
     "output_type": "execute_result"
    }
   ],
   "source": [
    "(3*4)+5"
   ]
  },
  {
   "cell_type": "markdown",
   "id": "68034f40-ba8c-4746-a543-9f2191fb1b23",
   "metadata": {
    "tags": []
   },
   "source": [
    "This will convert 200 minutes to hours by diving by 60."
   ]
  },
  {
   "cell_type": "code",
   "execution_count": 4,
   "id": "7c2bb407-28d3-4163-8c4a-8f5cdaa4f432",
   "metadata": {
    "tags": []
   },
   "outputs": [
    {
     "data": {
      "text/plain": [
       "3.3333333333333335"
      ]
     },
     "execution_count": 4,
     "metadata": {},
     "output_type": "execute_result"
    }
   ],
   "source": [
    "200 / 60"
   ]
  },
  {
   "cell_type": "markdown",
   "id": "2338513b-b084-4988-9f9b-79bbc2f17d1c",
   "metadata": {},
   "source": [
    "## Author\n",
    "Hayoung Yoon"
   ]
  },
  {
   "cell_type": "markdown",
   "id": "bae3ff72-d54e-4f70-8952-7895e514be40",
   "metadata": {},
   "source": [
    "## Author\n",
    "Hayoung Yoon"
   ]
  }
 ],
 "metadata": {
  "kernelspec": {
   "display_name": "Python",
   "language": "python",
   "name": "conda-env-python-py"
  },
  "language_info": {
   "codemirror_mode": {
    "name": "ipython",
    "version": 3
   },
   "file_extension": ".py",
   "mimetype": "text/x-python",
   "name": "python",
   "nbconvert_exporter": "python",
   "pygments_lexer": "ipython3",
   "version": "3.7.12"
  },
  "toc-showcode": true
 },
 "nbformat": 4,
 "nbformat_minor": 5
}
